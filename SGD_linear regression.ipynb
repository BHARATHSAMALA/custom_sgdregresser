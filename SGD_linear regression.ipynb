{
 "cells": [
  {
   "cell_type": "code",
   "execution_count": 171,
   "metadata": {},
   "outputs": [
    {
     "name": "stdout",
     "output_type": "stream",
     "text": [
      "Collecting PrettyTable\n",
      "  Downloading https://files.pythonhosted.org/packages/ef/30/4b0746848746ed5941f052479e7c23d2b56d174b82f4fd34a25e389831f5/prettytable-0.7.2.tar.bz2\n",
      "Building wheels for collected packages: PrettyTable\n",
      "  Building wheel for PrettyTable (setup.py): started\n",
      "  Building wheel for PrettyTable (setup.py): finished with status 'done'\n",
      "  Created wheel for PrettyTable: filename=prettytable-0.7.2-cp37-none-any.whl size=13706 sha256=fcaec85f9c59e54e4cf7f1f1ef6f7603dadf420e47b4ecaace8882a8e028d9d1\n",
      "  Stored in directory: C:\\Users\\Bharath\\AppData\\Local\\pip\\Cache\\wheels\\80\\34\\1c\\3967380d9676d162cb59513bd9dc862d0584e045a162095606\n",
      "Successfully built PrettyTable\n",
      "Installing collected packages: PrettyTable\n",
      "Successfully installed PrettyTable-0.7.2\n"
     ]
    }
   ],
   "source": [
    "!pip install PrettyTable"
   ]
  },
  {
   "cell_type": "code",
   "execution_count": 414,
   "metadata": {},
   "outputs": [],
   "source": [
    "import pandas as pd\n",
    "import numpy as np\n",
    "from sklearn.linear_model import SGDRegressor\n",
    "from sklearn.datasets import load_boston\n",
    "from sklearn.model_selection import train_test_split\n",
    "from sklearn.preprocessing import StandardScaler\n",
    "from sklearn.metrics import mean_squared_error\n",
    "from sklearn import preprocessing"
   ]
  },
  {
   "cell_type": "code",
   "execution_count": 415,
   "metadata": {},
   "outputs": [],
   "source": [
    "X,y = load_boston(return_X_y=True)"
   ]
  },
  {
   "cell_type": "code",
   "execution_count": 416,
   "metadata": {},
   "outputs": [],
   "source": [
    "x_train,x_test,y_train,y_test = train_test_split(X, y, test_size=0.2, random_state=42)"
   ]
  },
  {
   "cell_type": "code",
   "execution_count": 417,
   "metadata": {},
   "outputs": [
    {
     "name": "stdout",
     "output_type": "stream",
     "text": [
      "(404, 13) (404,)\n",
      "(102, 13) (102,)\n"
     ]
    }
   ],
   "source": [
    "print(x_train.shape,y_train.shape)\n",
    "print(x_test.shape, y_test.shape)"
   ]
  },
  {
   "cell_type": "code",
   "execution_count": 418,
   "metadata": {},
   "outputs": [
    {
     "data": {
      "text/plain": [
       "array([1.50234e+01, 0.00000e+00, 1.81000e+01, 0.00000e+00, 6.14000e-01,\n",
       "       5.30400e+00, 9.73000e+01, 2.10070e+00, 2.40000e+01, 6.66000e+02,\n",
       "       2.02000e+01, 3.49480e+02, 2.49100e+01])"
      ]
     },
     "execution_count": 418,
     "metadata": {},
     "output_type": "execute_result"
    }
   ],
   "source": [
    "x_train[0]"
   ]
  },
  {
   "cell_type": "code",
   "execution_count": 419,
   "metadata": {},
   "outputs": [],
   "source": [
    "\n",
    "min_max_scaler = preprocessing.MinMaxScaler()\n",
    "\n",
    "x_train = min_max_scaler.fit_transform(x_train)\n",
    "x_test = min_max_scaler.transform(x_test)\n"
   ]
  },
  {
   "cell_type": "code",
   "execution_count": 420,
   "metadata": {},
   "outputs": [
    {
     "name": "stdout",
     "output_type": "stream",
     "text": [
      "(404, 13)\n"
     ]
    },
    {
     "data": {
      "text/plain": [
       "array([0.16876276, 0.        , 0.64296296, 0.        , 0.47119342,\n",
       "       0.29306488, 0.97219361, 0.0883067 , 1.        , 0.91412214,\n",
       "       0.80851064, 0.88042766, 0.63962472])"
      ]
     },
     "execution_count": 420,
     "metadata": {},
     "output_type": "execute_result"
    }
   ],
   "source": [
    "print(x_train.shape)\n",
    "x_train[0]"
   ]
  },
  {
   "cell_type": "code",
   "execution_count": 421,
   "metadata": {},
   "outputs": [
    {
     "data": {
      "text/plain": [
       "SGDRegressor(alpha=0.0001, average=False, early_stopping=False, epsilon=0.1,\n",
       "             eta0=0.01, fit_intercept=True, l1_ratio=0.15,\n",
       "             learning_rate='invscaling', loss='squared_loss', max_iter=1000,\n",
       "             n_iter_no_change=5, penalty='l2', power_t=0.25, random_state=42,\n",
       "             shuffle=True, tol=0.001, validation_fraction=0.1, verbose=0,\n",
       "             warm_start=False)"
      ]
     },
     "execution_count": 421,
     "metadata": {},
     "output_type": "execute_result"
    }
   ],
   "source": [
    "clf = SGDRegressor(random_state = 42)\n",
    "\n",
    "clf.fit(x_train,y_train)"
   ]
  },
  {
   "cell_type": "code",
   "execution_count": 422,
   "metadata": {},
   "outputs": [],
   "source": [
    "y_predict_test = clf.predict(x_test)\n",
    "y_predict_train = clf.predict(x_train)"
   ]
  },
  {
   "cell_type": "code",
   "execution_count": 423,
   "metadata": {},
   "outputs": [
    {
     "data": {
      "text/plain": [
       "26.793371711592137"
      ]
     },
     "execution_count": 423,
     "metadata": {},
     "output_type": "execute_result"
    }
   ],
   "source": [
    "mean_squared_error(y_test,y_predict_test)"
   ]
  },
  {
   "cell_type": "code",
   "execution_count": 424,
   "metadata": {},
   "outputs": [
    {
     "data": {
      "text/plain": [
       "23.086294443180105"
      ]
     },
     "execution_count": 424,
     "metadata": {},
     "output_type": "execute_result"
    }
   ],
   "source": [
    "mean_squared_error(y_train,y_predict_train)"
   ]
  },
  {
   "cell_type": "markdown",
   "metadata": {},
   "source": [
    "## Custom linear regression and SGD:"
   ]
  },
  {
   "cell_type": "code",
   "execution_count": 425,
   "metadata": {},
   "outputs": [],
   "source": [
    "def calculate_loss(w,b,y,x):\n",
    "    \n",
    "    sum = 0\n",
    "    for i in range(len(y)):\n",
    "        \n",
    "        sum += (y[i] - np.dot(w.T,x[i]) - b)*(y[i] - np.dot(w.T,x[i]) - b)\n",
    "        \n",
    "    return sum\n",
    "        "
   ]
  },
  {
   "cell_type": "code",
   "execution_count": 426,
   "metadata": {},
   "outputs": [],
   "source": [
    "def f_w_derivative(w,b,y,x):\n",
    "    \n",
    "    sum = np.zeros((13,))\n",
    "    for i in range(len(y)):\n",
    "        \n",
    "        sum += (-2*x[i])*(y[i] - float(np.dot(w.T,x[i])) - b)\n",
    "        \n",
    "    return sum"
   ]
  },
  {
   "cell_type": "code",
   "execution_count": 427,
   "metadata": {},
   "outputs": [],
   "source": [
    "def f_b_derivative(w,b,y,x):\n",
    "    sum = 0\n",
    "    \n",
    "    for i in range(len(y)):\n",
    "        \n",
    "        sum += (-2)*(y[i] - np.dot(w.T, x[i]) - b)\n",
    "        \n",
    "    return sum"
   ]
  },
  {
   "cell_type": "code",
   "execution_count": 428,
   "metadata": {},
   "outputs": [
    {
     "name": "stdout",
     "output_type": "stream",
     "text": [
      "iteration: 100 loss: 4256.343041777181 learning rate: 0.001\n",
      "iteration: 200 loss: 2713.4027912458196 learning rate: 0.001\n",
      "iteration: 300 loss: 2446.7192276956766 learning rate: 0.001\n",
      "iteration: 400 loss: 1768.8337816042097 learning rate: 0.001\n",
      "iteration: 500 loss: 1176.8249619286178 learning rate: 0.001\n",
      "iteration: 600 loss: 1648.6358892506812 learning rate: 0.001\n",
      "iteration: 700 loss: 3239.4471701987122 learning rate: 0.001\n",
      "iteration: 800 loss: 2690.1850454677 learning rate: 0.001\n",
      "iteration: 900 loss: 1409.383368081637 learning rate: 0.001\n",
      "iteration: 1000 loss: 2833.6686209639056 learning rate: 0.001\n"
     ]
    }
   ],
   "source": [
    "w_old =  np.zeros((13,)) \n",
    "b_old = 0  \n",
    "r = 0.001\n",
    "n_itr = 0\n",
    "batch_size = 100\n",
    "while(n_itr <= 1000 ):\n",
    "    \n",
    "    index = np.random.choice(x_train.shape[0] ,batch_size, replace=False)\n",
    "    x = x_train[index,:]\n",
    "    y = y_train[index]\n",
    "    \n",
    "    \n",
    "    b_derivative = f_b_derivative(w_old , b_old, y , x)\n",
    "    \n",
    "    w_derivative = f_w_derivative(w_old , b_old, y , x)\n",
    "    \n",
    "    \n",
    "    \n",
    "    w_new = w_old - r * w_derivative\n",
    "\n",
    "    b_new = b_old - r*b_derivative\n",
    "    \n",
    "\n",
    "    \n",
    "    loss = calculate_loss(w_new,b_new,y,x)\n",
    "    w_old = w_new\n",
    "    b_old = b_new\n",
    "    n_itr += 1\n",
    "    \n",
    "    if(n_itr%100 == 0):\n",
    "        #r = r/2\n",
    "        print('iteration:', n_itr, 'loss:', loss, 'learning rate:',r)\n",
    "    "
   ]
  },
  {
   "cell_type": "code",
   "execution_count": 429,
   "metadata": {},
   "outputs": [],
   "source": [
    "y_pred_test = []\n",
    "\n",
    "for i in range(len(y_test)):\n",
    "    \n",
    "    y_pred_test.append(float(np.dot(w_new.T,x_test[i])) + b_new)"
   ]
  },
  {
   "cell_type": "code",
   "execution_count": 430,
   "metadata": {},
   "outputs": [],
   "source": [
    "y_pred_train = []\n",
    "\n",
    "for i in range(len(y_train)):\n",
    "    \n",
    "    y_pred_train.append(float(np.dot(w_new.T,x_train[i])) + b_new)"
   ]
  },
  {
   "cell_type": "code",
   "execution_count": 431,
   "metadata": {},
   "outputs": [
    {
     "data": {
      "text/plain": [
       "26.40129563798958"
      ]
     },
     "execution_count": 431,
     "metadata": {},
     "output_type": "execute_result"
    }
   ],
   "source": [
    "mean_squared_error(y_test,y_pred_test)"
   ]
  },
  {
   "cell_type": "code",
   "execution_count": 432,
   "metadata": {},
   "outputs": [
    {
     "data": {
      "text/plain": [
       "23.123286297740073"
      ]
     },
     "execution_count": 432,
     "metadata": {},
     "output_type": "execute_result"
    }
   ],
   "source": [
    "mean_squared_error(y_train,y_pred_train)"
   ]
  },
  {
   "cell_type": "code",
   "execution_count": 437,
   "metadata": {},
   "outputs": [
    {
     "data": {
      "image/png": "[encoded data removed]",
      "text/plain": [
       "<Figure size 432x288 with 1 Axes>"
      ]
     },
     "metadata": {
      "needs_background": "light"
     },
     "output_type": "display_data"
    }
   ],
   "source": [
    "import matplotlib.pyplot as plt\n",
    "\n",
    "plt.plot(range(len(y_test)), y_test, label = 'True prices')\n",
    "plt.plot(range(len(y_pred_test)), y_pred_test, label = 'Predicted prices')\n",
    "plt.title('custom sgd regresser')\n",
    "plt.legend()\n",
    "plt.show()"
   ]
  },
  {
   "cell_type": "code",
   "execution_count": 438,
   "metadata": {},
   "outputs": [
    {
     "data": {
      "image/png": "[encoded data removed]",
      "text/plain": [
       "<Figure size 432x288 with 1 Axes>"
      ]
     },
     "metadata": {
      "needs_background": "light"
     },
     "output_type": "display_data"
    }
   ],
   "source": [
    "plt.plot(range(len(y_test)), y_test, label = 'True prices')\n",
    "plt.plot(range(len(y_predict_test)), y_predict_test, label= 'Predicted prices')\n",
    "plt.title('sklearn sgd regresser')\n",
    "plt.legend()\n",
    "plt.show()"
   ]
  },
  {
   "cell_type": "markdown",
   "metadata": {},
   "source": [
    "## Weights comparison"
   ]
  },
  {
   "cell_type": "code",
   "execution_count": 435,
   "metadata": {},
   "outputs": [
    {
     "name": "stdout",
     "output_type": "stream",
     "text": [
      "+-----------+----------------------+---------------------+\n",
      "|  weights  |   sklearn weights    |  custom sgd weights |\n",
      "+-----------+----------------------+---------------------+\n",
      "|    W_0    |  -4.076596856111075  |  -6.219559765797287 |\n",
      "|    W_1    |  1.2079191025755895  |  1.5439000018035811 |\n",
      "|    W_2    | -0.08620181176076841 |  1.0843964333953742 |\n",
      "|    W_3    |  3.2479205192554836  |  2.8360001268087505 |\n",
      "|    W_4    | -3.1878327638763175  |  -5.543706991697299 |\n",
      "|    W_5    |  24.528390664016403  |  25.01307608203157  |\n",
      "|    W_6    |  1.1499100662040393  | 0.22128964323114475 |\n",
      "|    W_7    |  -6.077984859141772  |  -10.48684757725802 |\n",
      "|    W_8    |  2.9489849865713307  |  4.259749262737013  |\n",
      "|    W_9    | -2.8094607126540985  |  -3.920789765417196 |\n",
      "|    W_10   |  -7.325534221049525  |  -7.583463069353065 |\n",
      "|    W_11   |  6.724615383076588   |  6.051195988188064  |\n",
      "|    W_12   |  -17.18657369477348  | -17.224815908044057 |\n",
      "| intercept |  15.783217161311384  |  19.45236018147185  |\n",
      "+-----------+----------------------+---------------------+\n"
     ]
    }
   ],
   "source": [
    "\n",
    "from prettytable import PrettyTable\n",
    "    \n",
    "x = PrettyTable()\n",
    "\n",
    "\n",
    "x.field_names = [\"weights\",\"sklearn weights\", \"custom sgd weights\"]\n",
    "for i in range(len(w_new)):\n",
    "    x.add_row([\"W_\"+str(i),clf.coef_[i], w_new[i]])\n",
    "\n",
    "x.add_row([\"intercept\", float(clf.intercept_), b_new])\n",
    "\n",
    "\n",
    "print(x)"
   ]
  },
  {
   "cell_type": "code",
   "execution_count": 436,
   "metadata": {},
   "outputs": [
    {
     "name": "stdout",
     "output_type": "stream",
     "text": [
      "+--------------------------+--------------------+--------------------+\n",
      "|          model           |     train_MSE      |      test_MSE      |\n",
      "+--------------------------+--------------------+--------------------+\n",
      "|  sklearn SGD regresser   | 23.086294443180105 | 26.793371711592137 |\n",
      "| custom linear regression | 23.123286297740073 | 26.40129563798958  |\n",
      "+--------------------------+--------------------+--------------------+\n"
     ]
    }
   ],
   "source": [
    "# code borrowed from below site\n",
    "# http://zetcode.com/python/prettytable/\n",
    "\n",
    "\n",
    "from prettytable import PrettyTable\n",
    "    \n",
    "x = PrettyTable()\n",
    "\n",
    "\n",
    "x.field_names = [\"model\", \"train_MSE\",\"test_MSE\"]\n",
    "\n",
    "x.add_row([\"sklearn SGD regresser\", mean_squared_error(y_train,y_predict_train),mean_squared_error(y_test,y_predict_test)])\n",
    "x.add_row([\"custom linear regression\", mean_squared_error(y_train,y_pred_train), mean_squared_error(y_test,y_pred_test)])\n",
    "\n",
    "\n",
    "print(x)"
   ]
  },
  {
   "cell_type": "markdown",
   "metadata": {},
   "source": [
    "### Observations:\n",
    "\n",
    "> with increasing number of iterations we can get results similar to sklearn implementation"
   ]
  }
 ],
 "metadata": {
  "kernelspec": {
   "display_name": "Python 3",
   "language": "python",
   "name": "python3"
  },
  "language_info": {
   "codemirror_mode": {
    "name": "ipython",
    "version": 3
   },
   "file_extension": ".py",
   "mimetype": "text/x-python",
   "name": "python",
   "nbconvert_exporter": "python",
   "pygments_lexer": "ipython3",
   "version": "3.7.4"
  }
 },
 "nbformat": 4,
 "nbformat_minor": 2
}
